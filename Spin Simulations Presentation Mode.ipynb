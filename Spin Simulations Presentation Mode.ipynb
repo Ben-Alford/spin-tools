{
 "cells": [
  {
   "cell_type": "code",
   "execution_count": 2,
   "metadata": {
    "slideshow": {
     "slide_type": "skip"
    }
   },
   "outputs": [],
   "source": [
    "format compact"
   ]
  },
  {
   "cell_type": "markdown",
   "metadata": {
    "slideshow": {
     "slide_type": "slide"
    }
   },
   "source": [
    "# Results from August Simulations\n",
    "#### Ben Alford - Dartmouth College - September 2020"
   ]
  },
  {
   "cell_type": "markdown",
   "metadata": {
    "slideshow": {
     "slide_type": "skip"
    }
   },
   "source": [
    "## Simulation Methods"
   ]
  },
  {
   "cell_type": "markdown",
   "metadata": {
    "slideshow": {
     "slide_type": "subslide"
    }
   },
   "source": [
    "Sequences Used: WHH-4, MREV-8, Cory-48, Cory-24\n",
    "\n",
    "Cory 24 is a 24-pulse sequence created as a \"more efficient version\" of BR-24 (Cory, 1991, JMR)\n",
    "\n",
    "$$$$\n",
    "\n",
    "Parameter Space:\n",
    "\n",
    "Pulse length: up to 1.4 microseconds\n",
    "\n",
    "Tau Spacing: up to 6.5 microseconds\n",
    "\n",
    "Chemical Shift/Offset: up to 10 kHz (accounts for any terms proportional to $I_z$)\n",
    "\n",
    "Coupling Strength: up to 50 kHz"
   ]
  },
  {
   "cell_type": "markdown",
   "metadata": {
    "slideshow": {
     "slide_type": "subslide"
    }
   },
   "source": [
    "30 values of each parameter used\n",
    "\n",
    "10 random coupling-strength matrices \n",
    "\n",
    "For each set of 4 parameters, the fidelity after 10 milliseconds was calculated using $f = \\text{Tr}\\big ( U_{\\text{exp}}U_{\\text{theory}}^\\dagger \\big ) $ for each coupling matrix; the average was then recorded"
   ]
  },
  {
   "cell_type": "markdown",
   "metadata": {
    "slideshow": {
     "slide_type": "subslide"
    }
   },
   "source": [
    "The average hamiltonians used were: \n",
    "\n",
    "\n",
    "$$\\bar H_{\\text{WHH}} = \\frac{\\Delta}{3}(X+Y+Z)$$\n",
    "\n",
    "\n",
    "$$\\bar H_{\\text{MREV8}} = \\frac{\\Delta}{2}(X+Z)$$\n",
    "\n",
    "\n",
    "$$\\bar H_{\\text{CORY48}} = \\bar H_{\\text{CORY24}}= 0$$"
   ]
  },
  {
   "cell_type": "markdown",
   "metadata": {
    "slideshow": {
     "slide_type": "subslide"
    }
   },
   "source": [
    "The number of cycles $N_{\\text{cyc}}$ to be run was determined by dividing the cutoff time by the cycle time and rounding up: \n",
    "$$ N_{\\text{cyc}}=\\text{ceil}\\bigg(\\frac{\\text{cutoffTime}}{\\text{cycleTime}}\\bigg) $$\n",
    "These sharp cutoffs did sometimes affect the results; in several of the plots below, the fidelity appears to suddenly jump. These jumps most likely occur where the sequence becomes sufficiently long that $N_{\\text{cyc}}$ decreases. These jumps were mostly only noticable when the coupling strength was very low and the fidelity was very good."
   ]
  },
  {
   "cell_type": "markdown",
   "metadata": {
    "slideshow": {
     "slide_type": "slide"
    }
   },
   "source": [
    "## CORY-48 Results"
   ]
  },
  {
   "cell_type": "markdown",
   "metadata": {
    "slideshow": {
     "slide_type": "fragment"
    }
   },
   "source": [
    "To configure plots:"
   ]
  },
  {
   "cell_type": "code",
   "execution_count": 3,
   "metadata": {
    "slideshow": {
     "slide_type": "fragment"
    }
   },
   "outputs": [],
   "source": [
    "%r=load('/Users/alfordb/Documents/MATLAB/code/test_results_CORY_fixedTime.mat');\n",
    "\n",
    "meshing=30;\n",
    "maxTau = 6.5;\n",
    "maxPulse = 1.4;\n",
    "maxDelta = 10000;\n",
    "maxCoupling = 50000;\n",
    "\n",
    "taus=zeros(meshing,1);\n",
    "pulses=zeros(meshing,1);\n",
    "deltas = zeros(meshing,1);\n",
    "couplings=zeros(meshing,1);\n",
    "\n",
    "for i=1:meshing\n",
    "    taus(i)=(maxTau/meshing)*i*10^(-6);\n",
    "    pulses(i)=(maxPulse/meshing)*i;\n",
    "    deltas(i)=(-1) * maxDelta + 2*(maxDelta/meshing)*i;\n",
    "    couplings(i)=(maxCoupling/meshing)*i;\n",
    "end\n",
    "\n",
    "isoContours = [0.9 0.99 0.999];\n",
    "V = zeros(meshing, meshing, meshing);\n",
    "colors = {'blue', 'red', 'green'};"
   ]
  },
  {
   "cell_type": "markdown",
   "metadata": {
    "slideshow": {
     "slide_type": "notes"
    }
   },
   "source": [
    "Cory-48 performed quite well for the 10ms simulation. This sequence performed best with zero offset and performed worse as offset increased.This sequence could tolerate coupling strengths of up to 20 kHz for sufficiently short pulses.  At a coupling strength of 5 kHz and zero offset, Cory-48 can obtain 0.9 fidelity with pulses as long as 0.5 microseconds and even 0.99 fidelity with 0.2 microsecond pulses and delays of 0 to 2 microseconds."
   ]
  },
  {
   "cell_type": "markdown",
   "metadata": {
    "slideshow": {
     "slide_type": "subslide"
    }
   },
   "source": [
    "Cory-48 fidelity level surfaces for $\\Delta=0$"
   ]
  },
  {
   "cell_type": "code",
   "execution_count": 49,
   "metadata": {
    "slideshow": {
     "slide_type": "fragment"
    }
   },
   "outputs": [],
   "source": [
    "%plot native\n",
    "chosenDeltaIndex = 15;  % run this line to plot Cory-48 with zero offset\n",
    "fixed_offset_plot"
   ]
  },
  {
   "cell_type": "markdown",
   "metadata": {
    "slideshow": {
     "slide_type": "subslide"
    }
   },
   "source": [
    "For nonzero offset, Cory-48 still performs well, but requires lower tau-spacing and pulse length than at zero offset to achieve the same fidelity at the same coupling strength."
   ]
  },
  {
   "cell_type": "code",
   "execution_count": 50,
   "metadata": {
    "slideshow": {
     "slide_type": "fragment"
    }
   },
   "outputs": [],
   "source": [
    "%plot native\n",
    "chosenDeltaIndex = 16;  % run this line to plot Cory-48 with nonzero offset\n",
    "fixed_offset_plot"
   ]
  },
  {
   "cell_type": "markdown",
   "metadata": {
    "slideshow": {
     "slide_type": "subslide"
    }
   },
   "source": [
    "When the offset is increased further, the plot's shape remains the same but the fidelity worsens. "
   ]
  },
  {
   "cell_type": "code",
   "execution_count": 51,
   "metadata": {
    "slideshow": {
     "slide_type": "fragment"
    }
   },
   "outputs": [],
   "source": [
    "%plot native\n",
    "chosenDeltaIndex = 27;\n",
    "fixed_offset_plot"
   ]
  },
  {
   "cell_type": "markdown",
   "metadata": {
    "slideshow": {
     "slide_type": "subslide"
    }
   },
   "source": [
    "The dependence on the offset is symmetric and does not depend on the sign of the offset term."
   ]
  },
  {
   "cell_type": "code",
   "execution_count": 52,
   "metadata": {
    "slideshow": {
     "slide_type": "fragment"
    }
   },
   "outputs": [],
   "source": [
    "%plot native\n",
    "chosenCouplingIndex = 6;\n",
    "fixed_coupling_plot"
   ]
  },
  {
   "cell_type": "markdown",
   "metadata": {
    "slideshow": {
     "slide_type": "notes"
    }
   },
   "source": [
    "The additional higher-fidelity region for longer tau-spacing is most likely because cycles with a longer cycle time were run for fewer cycles, requiring a cutoff-time to change the number of cycles. This region is probably right at the edge of the cutoff, causing the fidelity to briefly increase due to fewer cycles being run."
   ]
  },
  {
   "cell_type": "markdown",
   "metadata": {
    "slideshow": {
     "slide_type": "subslide"
    }
   },
   "source": [
    "When the pulse length is fixed, similar patterns can be observed. The waves along the tail of the plot are most likely the result of the hard cutoff time. Once again the system has the highest fidelity when all parameters are closest to zero."
   ]
  },
  {
   "cell_type": "code",
   "execution_count": 53,
   "metadata": {
    "slideshow": {
     "slide_type": "fragment"
    }
   },
   "outputs": [],
   "source": [
    "%plot native\n",
    "chosenPulseIndex = 10;\n",
    "fixed_pulse_plot"
   ]
  },
  {
   "cell_type": "markdown",
   "metadata": {
    "slideshow": {
     "slide_type": "slide"
    }
   },
   "source": [
    "## MREV-8 Results"
   ]
  },
  {
   "cell_type": "markdown",
   "metadata": {
    "slideshow": {
     "slide_type": "fragment"
    }
   },
   "source": [
    "The version of MREV-8 used for these simulations was:$$$$ $$\\tau,\\bar X, \\tau,\\bar Y, 2\\tau, Y, \\tau, X, 2\\tau,X,\\tau, \\bar Y, 2\\tau, Y,\\tau, \\bar X, \\tau$$"
   ]
  },
  {
   "cell_type": "code",
   "execution_count": 54,
   "metadata": {
    "slideshow": {
     "slide_type": "fragment"
    }
   },
   "outputs": [],
   "source": [
    "r=load('/Users/alfordb/Documents/MATLAB/code/test_results_MREV8_fixedTime_v2.mat');"
   ]
  },
  {
   "cell_type": "markdown",
   "metadata": {
    "slideshow": {
     "slide_type": "notes"
    }
   },
   "source": [
    "MREV-8 performed extremely poorly over this long of a timescale, never attaining a fidelity greater than 0.99 even for very low values of all parameters.  MREV-8 also performs best with a nonzero chemical shift of about 40 Hz.  At this optimal offset, MREV-8 can achieve a fidelity above 0.9 for pulses up to 0.1 microseconds in length for sufficiently low coupling strength.  The optimal tau-spacing for MREV-8 is greater than zero and tau-spacings lower than 1.5 microseconds are not permitted."
   ]
  },
  {
   "cell_type": "markdown",
   "metadata": {
    "slideshow": {
     "slide_type": "subslide"
    }
   },
   "source": [
    "MREV-8 did not hold up over this long of a timescale and never attained a fidelity of 0.99 or greater.  MREV-8 could not attain a fidelity above 0.9 for coupling strengths greater than 2 kHz."
   ]
  },
  {
   "cell_type": "code",
   "execution_count": 55,
   "metadata": {
    "slideshow": {
     "slide_type": "fragment"
    }
   },
   "outputs": [],
   "source": [
    "%plot native\n",
    "chosenDeltaIndex = 15;\n",
    "fixed_offset_plot"
   ]
  },
  {
   "cell_type": "code",
   "execution_count": 56,
   "metadata": {
    "slideshow": {
     "slide_type": "fragment"
    }
   },
   "outputs": [],
   "source": [
    "%plot native\n",
    "chosenDeltaIndex = 17;\n",
    "fixed_offset_plot"
   ]
  },
  {
   "cell_type": "code",
   "execution_count": 57,
   "metadata": {
    "slideshow": {
     "slide_type": "fragment"
    }
   },
   "outputs": [],
   "source": [
    "%plot native\n",
    "chosenCouplingIndex = 1;\n",
    "fixed_coupling_plot"
   ]
  },
  {
   "cell_type": "markdown",
   "metadata": {
    "slideshow": {
     "slide_type": "slide"
    }
   },
   "source": [
    "## WAHUHA-4 Results"
   ]
  },
  {
   "cell_type": "markdown",
   "metadata": {
    "slideshow": {
     "slide_type": "fragment"
    }
   },
   "source": [
    "The version of WHH-4 used for these simulations was: $$\\tau,X,\\tau,\\bar Y,2\\tau,Y,\\tau,\\bar X,\\tau$$"
   ]
  },
  {
   "cell_type": "code",
   "execution_count": 7,
   "metadata": {
    "slideshow": {
     "slide_type": "subslide"
    }
   },
   "outputs": [],
   "source": [
    "r=load('Spinsim-2020/test_results_WHH_fixedTime_midDelta-THISONE.mat');\n",
    "% WHH simulations were run over a smaller version of the parameter space\n",
    "maxTau = 14;\n",
    "maxPulse = 1.4;\n",
    "maxDelta = 2000;\n",
    "maxCoupling = 4000;\n",
    "for i=1:meshing\n",
    "    taus(i)=(maxTau/meshing)*i*10^(-6);\n",
    "    pulses(i)=(maxPulse/meshing)*i*10^(-6);\n",
    "    deltas(i)=(-1) * maxDelta + 2*(maxDelta/meshing)*i;\n",
    "    couplings(i)=(maxCoupling/meshing)*i;\n",
    "end"
   ]
  },
  {
   "cell_type": "markdown",
   "metadata": {
    "slideshow": {
     "slide_type": "subslide"
    }
   },
   "source": [
    "Unlike CORY-48, WAHUHA performs better with a nonzero tau-spacing and offset. WAHUHA performs better than MREV-8 and their plots take similar shapes."
   ]
  },
  {
   "cell_type": "code",
   "execution_count": 6,
   "metadata": {
    "slideshow": {
     "slide_type": "fragment"
    }
   },
   "outputs": [],
   "source": [
    "%plot native\n",
    "chosenDeltaIndex = 15;\n",
    "fixed_offset_plot"
   ]
  },
  {
   "cell_type": "code",
   "execution_count": 8,
   "metadata": {
    "scrolled": true,
    "slideshow": {
     "slide_type": "fragment"
    }
   },
   "outputs": [],
   "source": [
    "%plot native\n",
    "chosenDeltaIndex = 17;\n",
    "fixed_offset_plot"
   ]
  },
  {
   "cell_type": "code",
   "execution_count": 9,
   "metadata": {
    "slideshow": {
     "slide_type": "fragment"
    }
   },
   "outputs": [],
   "source": [
    "%plot native\n",
    "chosenCouplingIndex = 12;\n",
    "fixed_coupling_plot"
   ]
  },
  {
   "cell_type": "code",
   "execution_count": 8,
   "metadata": {},
   "outputs": [],
   "source": [
    "%plot native\n",
    "chosenPulseIndex = 12;\n",
    "fixed_pulse_plot"
   ]
  },
  {
   "cell_type": "markdown",
   "metadata": {
    "slideshow": {
     "slide_type": "slide"
    }
   },
   "source": [
    "### CORY-24"
   ]
  },
  {
   "cell_type": "markdown",
   "metadata": {
    "slideshow": {
     "slide_type": "fragment"
    }
   },
   "source": [
    "In a 1991 *Journal of Magnetic Resonance* paper, Cory proposes a 24-pulse sequence as a \"more efficient\" version of BR-24.  This sequence produced results similar to the longer 48-pulse sequence, though the acceptable coupling strengths are lower for this sequence.  The sequence is shown below (figure from Cory, JMR, 1991)"
   ]
  },
  {
   "cell_type": "code",
   "execution_count": 26,
   "metadata": {
    "slideshow": {
     "slide_type": "subslide"
    }
   },
   "outputs": [
    {
     "data": {
      "image/png": "[encoded data removed]",
      "text/plain": [
       "<IPython.core.display.Image object>"
      ]
     },
     "metadata": {},
     "output_type": "display_data"
    }
   ],
   "source": [
    "%plot inline\n",
    "img=imread('/Users/alfordb/Jupyter/CORY_fig.png');\n",
    "imshow(img)"
   ]
  },
  {
   "cell_type": "code",
   "execution_count": 42,
   "metadata": {
    "slideshow": {
     "slide_type": "fragment"
    }
   },
   "outputs": [],
   "source": [
    "r=load('/Users/alfordb/Documents/MATLAB/code/test_results_CORY24_fixedTime.mat');\n",
    "\n",
    "meshing=30;\n",
    "maxTau = 6.5;\n",
    "maxPulse = 1.4;\n",
    "maxDelta = 10000;\n",
    "maxCoupling = 50000;\n",
    "\n",
    "for i=1:meshing\n",
    "    taus(i)=(maxTau/meshing)*i*10^(-6);\n",
    "    pulses(i)=(maxPulse/meshing)*i;\n",
    "    deltas(i)=(-1) * maxDelta + 2*(maxDelta/meshing)*i;\n",
    "    couplings(i)=(maxCoupling/meshing)*i;\n",
    "end"
   ]
  },
  {
   "cell_type": "markdown",
   "metadata": {
    "slideshow": {
     "slide_type": "subslide"
    }
   },
   "source": [
    "For an offset of zero, CORY-48 and CORY-24 produce very similar results.  Results with $\\Delta \\neq 0$ are not accurate as the wrong average Hamiltonian was used."
   ]
  },
  {
   "cell_type": "code",
   "execution_count": 43,
   "metadata": {
    "slideshow": {
     "slide_type": "fragment"
    }
   },
   "outputs": [],
   "source": [
    "%plot native\n",
    "chosenDeltaIndex = 15;\n",
    "fixed_offset_plot"
   ]
  },
  {
   "cell_type": "code",
   "execution_count": 44,
   "metadata": {
    "slideshow": {
     "slide_type": "fragment"
    }
   },
   "outputs": [],
   "source": [
    "%plot native\n",
    "chosenDeltaIndex = 16;\n",
    "fixed_offset_plot"
   ]
  }
 ],
 "metadata": {
  "celltoolbar": "Slideshow",
  "kernelspec": {
   "display_name": "Matlab",
   "language": "matlab",
   "name": "matlab"
  },
  "language_info": {
   "codemirror_mode": "octave",
   "file_extension": ".m",
   "help_links": [
    {
     "text": "MetaKernel Magics",
     "url": "https://metakernel.readthedocs.io/en/latest/source/README.html"
    }
   ],
   "mimetype": "text/x-octave",
   "name": "matlab",
   "version": "0.16.9"
  }
 },
 "nbformat": 4,
 "nbformat_minor": 4
}
